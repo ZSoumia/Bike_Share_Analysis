{
 "cells": [
  {
   "cell_type": "markdown",
   "metadata": {},
   "source": [
    "# 2016 US Bike Share Activity Snapshot\n",
    "> By Soumia Zohra El Mestari \n",
    "\n",
    "## Table of Contents\n",
    "- [Introduction](#intro)\n",
    "- [Posing Questions](#pose_questions)\n",
    "- [Data Collection and Wrangling](#wrangling)\n",
    "  - [Condensing the Trip Data](#condensing)\n",
    "- [Exploratory Data Analysis](#eda)\n",
    "  - [Statistics](#statistics)\n",
    "  - [Visualizations](#visualizations)\n",
    "- [Performing Your Own Analysis](#eda_continued)\n",
    "- [Conclusions](#conclusions)\n",
    "\n",
    "<a id='intro'></a>\n",
    "## Introduction\n",
    "\n",
    "\n",
    "Over the past decade, bicycle-sharing systems have been growing in number and popularity in cities across the world. Bicycle-sharing systems allow users to rent bicycles for short trips, typically 30 minutes or less. Thanks to the rise in information technologies, it is easy for a user of the system to access a dock within the system to unlock or return bicycles. These technologies also provide a wealth of data that can be used to explore how these bike-sharing systems are used.\n",
    "\n",
    "In this project,I  performed an exploratory analysis on data provided by [Motivate](https://www.motivateco.com/), a bike-share system provider for many major cities in the United States. I  compared the system usage between three large cities: New York City, Chicago, and Washington, DC. You will also see if there are any differences within each system for those users that are registered, regular users and those users that are short-term, casual users."
   ]
  },
  {
   "cell_type": "markdown",
   "metadata": {},
   "source": [
    "<a id='pose_questions'></a>\n",
    "## Posing Questions\n",
    "Q1 ) What are the propotions of each user category(female/male/young/adult..) in each region ? (This helps to make smart decisions in investing to provide certain types of bicycles , for example : if in region A most of your users are females then it's a clever choice to consider adding more WSD(women specific design) bikes as in general women's physique have different shapes than the average man physique ) \n",
    "<br><br>\n",
    "Q2) In each region what are the propotions of each user type (subscriber/ customer...) ? (This can help conduct further studies to learn more about the user's decisions and therefore spot the disturbing effects that influence the user's decisions , to stay just a customer for example )\n",
    "<br><br>\n",
    "Q3) In each region what are the parts of the day in which a high usage rate is recorded ? (This helps to identify where and when should the company consider adding more bicycles to certain stations in order to tagrget a larger group of users).\n",
    "<br><br>\n",
    "Q4) How is the rate of the bike's usage is evolving throughout the years in each region ? ( This gives a global overview of the business growth)\n",
    "<br><br>\n",
    "Q5 ) How many time(duration) each user is spending on the bike per year ? (results can be grouped per gender/region/time of the day ( morning , night ....) in order to spot trends which can influence the business growth , and with further studies we can undertsand the reasons behind this behaviour and take action to enhance the service )\n"
   ]
  },
  {
   "cell_type": "markdown",
   "metadata": {},
   "source": [
    "<a id='wrangling'></a>\n",
    "## Data Collection and Wrangling\n",
    "\n",
    "Now it's time to collect and explore our data. In this project, we will focus on the record of individual trips taken in 2016 from our selected cities: New York City, Chicago, and Washington, DC. Each of these cities has a page where we can freely download the trip data.:\n",
    "\n",
    "- New York City (Citi Bike): [Link](https://www.citibikenyc.com/system-data)\n",
    "- Chicago (Divvy): [Link](https://www.divvybikes.com/system-data)\n",
    "- Washington, DC (Capital Bikeshare): [Link](https://www.capitalbikeshare.com/system-data)\n",
    "\n",
    "If you visit these pages, you will notice that each city has a different way of delivering its data. Chicago updates with new data twice a year, Washington DC is quarterly, and New York City is monthly. While the original data for 2016 is spread among multiple files for each city, the files in the `/data/` folder collect all of the trip data for the year into one file per city. Some data wrangling of inconsistencies in timestamp format within each city has already been performed . In addition, a random 2% sample of the original data is taken to make the exploration more manageable. \n"
   ]
  },
  {
   "cell_type": "code",
   "execution_count": 1,
   "metadata": {
    "collapsed": true
   },
   "outputs": [],
   "source": [
    "## import all necessary packages and functions.\n",
    "import csv # read and write csv files\n",
    "from datetime import datetime # operations to parse dates\n",
    "from pprint import pprint # use to print data structures like dictionaries in\n",
    "                          # a nicer way than the base print function.\n",
    "import operator "
   ]
  },
  {
   "cell_type": "code",
   "execution_count": 21,
   "metadata": {},
   "outputs": [
    {
     "name": "stdout",
     "output_type": "stream",
     "text": [
      "\n",
      "City: NYC\n",
      "OrderedDict([('tripduration', '839'),\n",
      "             ('starttime', '1/1/2016 00:09:55'),\n",
      "             ('stoptime', '1/1/2016 00:23:54'),\n",
      "             ('start station id', '532'),\n",
      "             ('start station name', 'S 5 Pl & S 4 St'),\n",
      "             ('start station latitude', '40.710451'),\n",
      "             ('start station longitude', '-73.960876'),\n",
      "             ('end station id', '401'),\n",
      "             ('end station name', 'Allen St & Rivington St'),\n",
      "             ('end station latitude', '40.72019576'),\n",
      "             ('end station longitude', '-73.98997825'),\n",
      "             ('bikeid', '17109'),\n",
      "             ('usertype', 'Customer'),\n",
      "             ('birth year', ''),\n",
      "             ('gender', '0')])\n",
      "\n",
      "City: Chicago\n",
      "OrderedDict([('trip_id', '9080545'),\n",
      "             ('starttime', '3/31/2016 23:30'),\n",
      "             ('stoptime', '3/31/2016 23:46'),\n",
      "             ('bikeid', '2295'),\n",
      "             ('tripduration', '926'),\n",
      "             ('from_station_id', '156'),\n",
      "             ('from_station_name', 'Clark St & Wellington Ave'),\n",
      "             ('to_station_id', '166'),\n",
      "             ('to_station_name', 'Ashland Ave & Wrightwood Ave'),\n",
      "             ('usertype', 'Subscriber'),\n",
      "             ('gender', 'Male'),\n",
      "             ('birthyear', '1990')])\n",
      "\n",
      "City: Washington\n",
      "OrderedDict([('Duration (ms)', '427387'),\n",
      "             ('Start date', '3/31/2016 22:57'),\n",
      "             ('End date', '3/31/2016 23:04'),\n",
      "             ('Start station number', '31602'),\n",
      "             ('Start station', 'Park Rd & Holmead Pl NW'),\n",
      "             ('End station number', '31207'),\n",
      "             ('End station', 'Georgia Ave and Fairmont St NW'),\n",
      "             ('Bike number', 'W20842'),\n",
      "             ('Member Type', 'Registered')])\n"
     ]
    }
   ],
   "source": [
    "def print_first_point(filename):\n",
    "    \"\"\"\n",
    "    This function prints and returns the first data point (second row) from\n",
    "    a csv file that includes a header row.\n",
    "    INPUT :\n",
    "        filename(string): path of the data file \n",
    "    OUTPUT : \n",
    "        second row in the file \n",
    "    \"\"\"\n",
    "    # print city name for reference\n",
    "    city = filename.split('-')[0].split('/')[-1]\n",
    "    print('\\nCity: {}'.format(city))\n",
    "    \n",
    "    with open(filename, 'r') as f_in:\n",
    "        ## TODO: Use the csv library to set up a DictReader object. ##\n",
    "        ## see https://docs.python.org/3/library/csv.html           ##\n",
    "        trip_reader = csv.DictReader(f_in)\n",
    "        \n",
    "        ## TODO: Use a function on the DictReader object to read the     ##\n",
    "        ## first trip from the data file and store it in a variable.     ##\n",
    "        ## see https://docs.python.org/3/library/csv.html#reader-objects ##\n",
    "        first_trip = next(trip_reader)\n",
    "        \n",
    "        ## TODO: Use the pprint library to print the first trip. ##\n",
    "        ## see https://docs.python.org/3/library/pprint.html     ##\n",
    "        pprint(first_trip)\n",
    "    # output city name and first trip for later testing\n",
    "    return (city, first_trip)\n",
    "\n",
    "# list of files for each city\n",
    "data_files = ['./data/NYC-CitiBike-2016.csv',\n",
    "              './data/Chicago-Divvy-2016.csv',\n",
    "              './data/Washington-CapitalBikeshare-2016.csv',]\n",
    "\n",
    "# print the first trip from each file, store in dictionary\n",
    "example_trips = {}\n",
    "for data_file in data_files:\n",
    "    city, first_trip = print_first_point(data_file)\n",
    "    example_trips[city] = first_trip"
   ]
  },
  {
   "cell_type": "markdown",
   "metadata": {},
   "source": [
    "If everything has been filled out correctly, you should see below the printout of each city name (which has been parsed from the data file name) that the first trip has been parsed in the form of a dictionary. When you set up a `DictReader` object, the first row of the data file is normally interpreted as column names. Every other row in the data file will use those column names as keys, as a dictionary is generated for each row.\n",
    "\n",
    "This will be useful since we can refer to quantities by an easily-understandable label instead of just a numeric index. For example, if we have a trip stored in the variable `row`, then we would rather get the trip duration from `row['duration']` instead of `row[0]`.\n",
    "\n",
    "<a id='condensing'></a>\n",
    "### Condensing the Trip Data\n",
    "\n",
    "It should also be observable from the above printout that each city provides different information. Even where the information is the same, the column names and formats are sometimes different. To make things as simple as possible when we get to the actual exploration, we should trim and clean the data. Cleaning the data makes sure that the data formats across the cities are consistent, while trimming focuses only on the parts of the data we are most interested in to make the exploration easier to work with.\n",
    "\n",
    "You will generate new data files with five values of interest for each trip: trip duration, starting month, starting hour, day of the week, and user type. Each of these may require additional wrangling depending on the city:\n",
    "\n",
    "- **Duration**: This has been given to us in seconds (New York, Chicago) or milliseconds (Washington). A more natural unit of analysis will be if all the trip durations are given in terms of minutes.\n",
    "- **Month**, **Hour**, **Day of Week**: Ridership volume is likely to change based on the season, time of day, and whether it is a weekday or weekend. Use the start time of the trip to obtain these values. The New York City data includes the seconds in their timestamps, while Washington and Chicago do not. The [`datetime`](https://docs.python.org/3/library/datetime.html) package will be very useful here to make the needed conversions.\n",
    "- **User Type**: It is possible that users who are subscribed to a bike-share system will have different patterns of use compared to users who only have temporary passes. Washington divides its users into two types: 'Registered' for users with annual, monthly, and other longer-term subscriptions, and 'Casual', for users with 24-hour, 3-day, and other short-term passes. The New York and Chicago data uses 'Subscriber' and 'Customer' for these groups, respectively. For consistency, you will convert the Washington labels to match the other two.\n",
    "\n",
    "\n",
    "**Question 3a**: Complete the helper functions in the code cells below to address each of the cleaning tasks described above."
   ]
  },
  {
   "cell_type": "code",
   "execution_count": 22,
   "metadata": {},
   "outputs": [
    {
     "name": "stdout",
     "output_type": "stream",
     "text": [
      "Duration in minutes results for Chicago 15.433333333333334 , the correct value is 15.4333 \n",
      "Duration in minutes results for NYC 13.983333333333333 , the correct value is 13.9833 \n",
      "Duration in minutes results for Washington 7.123116666666666 , the correct value is 7.1231 \n"
     ]
    }
   ],
   "source": [
    "def duration_in_mins(datum, city):\n",
    "    \"\"\"\n",
    "    Takes as input a dictionary containing info about a single trip (datum) and\n",
    "    its origin city (city) and returns the trip duration in units of minutes.\n",
    "    \n",
    "    Remember that Washington is in terms of milliseconds while Chicago and NYC\n",
    "    are in terms of seconds. \n",
    "    \n",
    "    HINT: The csv module reads in all of the data as strings, including numeric\n",
    "    values. You will need a function to convert the strings into an appropriate\n",
    "    numeric type when making your transformations.\n",
    "    see https://docs.python.org/3/library/functions.html\n",
    "    \"\"\"\n",
    "    \n",
    "    # YOUR CODE HERE\n",
    "    if (city == 'NYC') or (city == 'Chicago'):\n",
    "        duration = int(datum['tripduration']) / 60 #conversion from seconds to minutes\n",
    "    else : #if it's not NYC or Chicago then it's  Washington \n",
    "        duration = int(datum['Duration (ms)']) / 60000 #conversion from millisecondes to minutes\n",
    "    return duration\n",
    "\n",
    "\n",
    "# Some tests to check that your code works. There should be no output if all of\n",
    "# the assertions pass. The `example_trips` dictionary was obtained from when\n",
    "# you printed the first trip from each of the original data files.\n",
    "tests = {'NYC': 13.9833,\n",
    "         'Chicago': 15.4333,\n",
    "         'Washington': 7.1231}\n",
    "\n",
    "for city in tests:\n",
    "    assert abs(duration_in_mins(example_trips[city], city) - tests[city]) < .001\n",
    " \n",
    "#tests \n",
    "print('Duration in minutes results for Chicago {} , the correct value is {} '.format(duration_in_mins(example_trips['Chicago'], 'Chicago'),tests['Chicago']))\n",
    "print('Duration in minutes results for NYC {} , the correct value is {} '.format(duration_in_mins(example_trips['NYC'], 'NYC'),tests['NYC']))\n",
    "print('Duration in minutes results for Washington {} , the correct value is {} '.format(duration_in_mins(example_trips['Washington'], 'Washington'),tests['Washington']))\n"
   ]
  },
  {
   "cell_type": "code",
   "execution_count": 4,
   "metadata": {
    "scrolled": true
   },
   "outputs": [
    {
     "name": "stdout",
     "output_type": "stream",
     "text": [
      "Time format results for Chicago (3, 23, 'Thursday') , the correct value is (3, 23, 'Thursday') \n",
      "Time format results results for NYC (1, 0, 'Friday') , the correct value is (1, 0, 'Friday') \n",
      "Time format results results for Washington (3, 22, 'Thursday') , the correct value is (3, 22, 'Thursday') \n"
     ]
    }
   ],
   "source": [
    "def time_of_trip(datum, city):\n",
    "    \"\"\"\n",
    "    Takes as input a dictionary containing info about a single trip (datum) and\n",
    "    its origin city (city) and returns the month, hour, and day of the week in\n",
    "    which the trip was made.\n",
    "    \n",
    "    Remember that NYC includes seconds, while Washington and Chicago do not.\n",
    "    \n",
    "    HINT: You should use the datetime module to parse the original date\n",
    "    strings into a format that is useful for extracting the desired information.\n",
    "    see https://docs.python.org/3/library/datetime.html#strftime-and-strptime-behavior\n",
    "    \"\"\"\n",
    "    # YOUR CODE HERE\n",
    "    date_format,attribute_key = None,None\n",
    "    #date_format specifies the patterns in which the date is formatted \n",
    "    \n",
    "    if city == 'NYC':\n",
    "        date_format = '%m/%d/%Y %H:%M:%S'\n",
    "        attribute_key = 'starttime'\n",
    "    elif city == 'Chicago':\n",
    "        date_format = '%m/%d/%Y %H:%M'\n",
    "        attribute_key = 'starttime'\n",
    "    else :#if not Chicago and not NYC then it's Washington\n",
    "        date_format = '%m/%d/%Y %H:%M'\n",
    "        attribute_key = 'Start date'\n",
    "    \n",
    "    month = datetime.strptime(datum[attribute_key],date_format).month\n",
    "    hour = datetime.strptime(datum[attribute_key],date_format).hour\n",
    "    day_of_week = datetime.strptime(datum[attribute_key],date_format).strftime('%A')   \n",
    "\n",
    "    return (month, hour, day_of_week)\n",
    "\n",
    "\n",
    "# Some tests to check that your code works. There should be no output if all of\n",
    "# the assertions pass. The `example_trips` dictionary was obtained from when\n",
    "# you printed the first trip from each of the original data files.\n",
    "tests = {'NYC': (1, 0, 'Friday'),\n",
    "         'Chicago': (3, 23, 'Thursday'),\n",
    "         'Washington': (3, 22, 'Thursday')}\n",
    "\n",
    "for city in tests:\n",
    "    assert time_of_trip(example_trips[city], city) == tests[city]\n",
    "                      \n",
    "print('Time format results for Chicago {} , the correct value is {} '.format(time_of_trip(example_trips['Chicago'], 'Chicago'),tests['Chicago']))\n",
    "print('Time format results results for NYC {} , the correct value is {} '.format(time_of_trip(example_trips['NYC'], 'NYC'),tests['NYC']))\n",
    "print('Time format results results for Washington {} , the correct value is {} '.format(time_of_trip(example_trips['Washington'], 'Washington'),tests['Washington']))\n"
   ]
  },
  {
   "cell_type": "code",
   "execution_count": 23,
   "metadata": {},
   "outputs": [
    {
     "name": "stdout",
     "output_type": "stream",
     "text": [
      "User type results for Chicago Subscriber , the correct value is Subscriber \n",
      "User type result for NYC Customer , the correct value is Customer \n",
      "User type result for Washington Subscriber , the correct value is Subscriber \n"
     ]
    }
   ],
   "source": [
    "def type_of_user(datum, city):\n",
    "    \"\"\"\n",
    "    Takes as input a dictionary containing info about a single trip (datum) and\n",
    "    its origin city (city) and returns the type of system user that made the\n",
    "    trip.\n",
    "    \n",
    "    Remember that Washington has different category names compared to Chicago\n",
    "    and NYC. \n",
    "    \"\"\"\n",
    "    \n",
    "    # YOUR CODE HERE\n",
    "    if city == 'Washington':\n",
    "        if(datum['Member Type'] == 'Registered'):\n",
    "            user_type = 'Subscriber'\n",
    "        else:\n",
    "            user_type = 'Customer'\n",
    "    else :\n",
    "        user_type = datum['usertype']\n",
    "        \n",
    "    \n",
    "    return user_type\n",
    "\n",
    "\n",
    "# Some tests to check that your code works. There should be no output if all of\n",
    "# the assertions pass. The `example_trips` dictionary was obtained from when\n",
    "# you printed the first trip from each of the original data files.\n",
    "tests = {'NYC': 'Customer',\n",
    "         'Chicago': 'Subscriber',\n",
    "         'Washington': 'Subscriber'}\n",
    "\n",
    "for city in tests:\n",
    "    assert type_of_user(example_trips[city], city) == tests[city]\n",
    "    \n",
    "print('User type results for Chicago {} , the correct value is {} '.format( type_of_user(example_trips['Chicago'], 'Chicago'),tests['Chicago']))\n",
    "print('User type result for NYC {} , the correct value is {} '.format( type_of_user(example_trips['NYC'], 'NYC'),tests['NYC']))\n",
    "print('User type result for Washington {} , the correct value is {} '.format( type_of_user(example_trips['Washington'], 'Washington'),tests['Washington']))\n"
   ]
  },
  {
   "cell_type": "markdown",
   "metadata": {},
   "source": [
    "**Question 3b**: Now, use the helper functions you wrote above to create a condensed data file for each city consisting only of the data fields indicated above. In the `/examples/` folder, you will see an example datafile from the [Bay Area Bike Share](http://www.bayareabikeshare.com/open-data) before and after conversion. Make sure that your output is formatted to be consistent with the example file."
   ]
  },
  {
   "cell_type": "code",
   "execution_count": 24,
   "metadata": {
    "collapsed": true
   },
   "outputs": [],
   "source": [
    "def condense_data(in_file, out_file, city):\n",
    "    \"\"\"\n",
    "    This function takes full data from the specified input file\n",
    "    and writes the condensed data to a specified output file. The city\n",
    "    argument determines how the input file will be parsed.\n",
    "    \n",
    "    HINT: See the cell below to see how the arguments are structured!\n",
    "    \"\"\"\n",
    "    \n",
    "    with open(out_file, 'w') as f_out, open(in_file, 'r') as f_in:\n",
    "        # set up csv DictWriter object - writer requires column names for the\n",
    "        # first row as the \"fieldnames\" argument\n",
    "        out_colnames = ['duration', 'month', 'hour', 'day_of_week', 'user_type']        \n",
    "        trip_writer = csv.DictWriter(f_out, fieldnames = out_colnames)\n",
    "        trip_writer.writeheader()\n",
    "        \n",
    "        ## TODO: set up csv DictReader object ##\n",
    "        trip_reader = list(csv.DictReader(f_in))\n",
    "\n",
    "        # collect data from and process each row\n",
    "        for row in trip_reader:\n",
    "            # set up a dictionary to hold the values for the cleaned and trimmed\n",
    "            # data point\n",
    "            new_point = {}\n",
    "            ## TODO: use the helper functions to get the cleaned data from  ##\n",
    "            ## the original data dictionaries.                              ##\n",
    "            ## Note that the keys for the new_point dictionary should match ##\n",
    "            ## the column names set in the DictWriter object above.         ##\n",
    "            new_point[out_colnames[0]] = duration_in_mins(row, city)\n",
    "            new_point[out_colnames [1]], new_point[out_colnames [2]], new_point[out_colnames[3]] = time_of_trip(row, city) \n",
    "            new_point[out_colnames[4]] = type_of_user(row, city)\n",
    "\n",
    "\n",
    "            ## TODO: write the processed information to the output file.     ##\n",
    "            ## see https://docs.python.org/3/library/csv.html#writer-objects ##\n",
    "            trip_writer.writerow(new_point)\n",
    "            "
   ]
  },
  {
   "cell_type": "code",
   "execution_count": 25,
   "metadata": {
    "scrolled": true
   },
   "outputs": [
    {
     "name": "stdout",
     "output_type": "stream",
     "text": [
      "\n",
      "City: Washington\n",
      "OrderedDict([('duration', '7.123116666666666'),\n",
      "             ('month', '3'),\n",
      "             ('hour', '22'),\n",
      "             ('day_of_week', 'Thursday'),\n",
      "             ('user_type', 'Subscriber')])\n",
      "\n",
      "City: Chicago\n",
      "OrderedDict([('duration', '15.433333333333334'),\n",
      "             ('month', '3'),\n",
      "             ('hour', '23'),\n",
      "             ('day_of_week', 'Thursday'),\n",
      "             ('user_type', 'Subscriber')])\n",
      "\n",
      "City: NYC\n",
      "OrderedDict([('duration', '13.983333333333333'),\n",
      "             ('month', '1'),\n",
      "             ('hour', '0'),\n",
      "             ('day_of_week', 'Friday'),\n",
      "             ('user_type', 'Customer')])\n"
     ]
    }
   ],
   "source": [
    "# Run this cell to check your work\n",
    "city_info = {'Washington': {'in_file': './data/Washington-CapitalBikeshare-2016.csv',\n",
    "                            'out_file': './data/Washington-2016-Summary.csv'},\n",
    "             'Chicago': {'in_file': './data/Chicago-Divvy-2016.csv',\n",
    "                         'out_file': './data/Chicago-2016-Summary.csv'},\n",
    "             'NYC': {'in_file': './data/NYC-CitiBike-2016.csv',\n",
    "                     'out_file': './data/NYC-2016-Summary.csv'}}\n",
    "\n",
    "for city, filenames in city_info.items():\n",
    "    condense_data(filenames['in_file'], filenames['out_file'], city)\n",
    "    print_first_point(filenames['out_file'])"
   ]
  },
  {
   "cell_type": "markdown",
   "metadata": {},
   "source": [
    "<a id='eda'></a>\n",
    "## Exploratory Data Analysis\n",
    "\n",
    "Now that we have the data collected and wrangled, we're ready to start exploring the data. In this section I  wrote some code to compute descriptive statistics from the data.\n",
    "<a id='statistics'></a>\n",
    "### Statistics\n",
    "\n",
    "First, let's compute some basic counts. The first cell below contains a function that uses the csv module to iterate through a provided data file, returning the number of trips made by subscribers and customers. The second cell runs this function on the example Bay Area data in the `/examples/` folder. Modify the cells to answer the question below.\n",
    "\n",
    "**Question 4a**: Which city has the highest number of trips? Which city has the highest proportion of trips made by subscribers? Which city has the highest proportion of trips made by short-term customers?\n",
    "\n",
    "**Answer**: Based on the execution of the following two cells : \n",
    "<br>\n",
    "**Answer 1 :** the city that has the hightest number of trips is NYC \n",
    "<br>\n",
    "**Answer 2 :** the city that has the hightest proportion of trips made by subscribers is  NYC\n",
    "<br>\n",
    "**Answer 3 :** the city that has the hightest the highest proportion of trips made by short-term customers is Chicago "
   ]
  },
  {
   "cell_type": "code",
   "execution_count": 26,
   "metadata": {
    "collapsed": true
   },
   "outputs": [],
   "source": [
    "def number_of_trips(filename):\n",
    "    \"\"\"\n",
    "    This function reads in a file with trip data and reports the number of\n",
    "    trips made by subscribers, customers, and total overall.\n",
    "    \"\"\"\n",
    "    with open(filename, 'r') as f_in:\n",
    "        # set up csv reader object\n",
    "        reader = csv.DictReader(f_in)\n",
    "        \n",
    "        # initialize count variables\n",
    "        n_subscribers = 0\n",
    "        n_customers = 0\n",
    "        \n",
    "        # tally up ride types\n",
    "        for row in reader:\n",
    "            if row['user_type'] == 'Subscriber':\n",
    "                n_subscribers += 1\n",
    "            else:\n",
    "                n_customers += 1\n",
    "        \n",
    "        # compute total number of rides\n",
    "        n_total = n_subscribers + n_customers\n",
    "        \n",
    "        # return tallies as a tuple\n",
    "        return(n_subscribers, n_customers, n_total)"
   ]
  },
  {
   "cell_type": "code",
   "execution_count": 27,
   "metadata": {},
   "outputs": [
    {
     "name": "stdout",
     "output_type": "stream",
     "text": [
      "the city that has the hightest number of trips is NYC with a total of 276798 trip \n",
      "the city that has the hightest proportion of trips made by subscribers is  NYC with a propotion of 0.8883590199351151 \n",
      "the city that has the hightest the highest proportion of trips made by short-term customers is Chicago with a propotion up to 0.23774798630269925 \n"
     ]
    }
   ],
   "source": [
    "## Modify this and the previous cell to answer Question 4a. Remember to run ##\n",
    "## the function on the cleaned data files you created from Question 3.      ##\n",
    "trips_count = {}\n",
    "subscribers_propotion = {}\n",
    "customers_propotion = {}\n",
    "data_files = ('./data/Chicago-2016-Summary.csv','\\\n",
    "./data/NYC-2016-Summary.csv','./data/Washington-2016-Summary.csv')\n",
    "for data_file in data_files:\n",
    "    city = data_file.split('-')[0].split('/')[-1]\n",
    "    a = number_of_trips(data_file)[0] / number_of_trips(data_file)[2]\n",
    "    b = number_of_trips(data_file)[1] / number_of_trips(data_file)[2]\n",
    "    \n",
    "    subscribers_propotion [city],customers_propotion[city],trips_count[city] = a,b,number_of_trips(data_file)[2]\n",
    "    \n",
    "print('the city that has the hightest number of trips is {} with a total of {} trip '.format(max(trips_count.items(),key=operator.itemgetter(1))[0],max(trips_count.items(),key=operator.itemgetter(1))[1]))\n",
    "print('the city that has the hightest proportion of trips made by subscribers is  {} with a propotion of {} '.format(max(subscribers_propotion.items(),key=operator.itemgetter(1))[0],max(subscribers_propotion.items(),key=operator.itemgetter(1))[1]))   \n",
    "print('the city that has the hightest the highest proportion of trips made by short-term customers is {} with a propotion up to {} '.format(max(customers_propotion.items(),key=operator.itemgetter(1))[0],max(customers_propotion.items(),key=operator.itemgetter(1))[1]))"
   ]
  },
  {
   "cell_type": "markdown",
   "metadata": {},
   "source": [
    "\n",
    "Now, you will write your own code to continue investigating properties of the data.\n",
    "\n",
    "**Question 4b**: Bike-share systems are designed for riders to take short trips. Most of the time, users are allowed to take trips of 30 minutes or less with no additional charges, with overage charges made for trips of longer than that duration. What is the average trip length for each city? What proportion of rides made in each city are longer than 30 minutes ?\n",
    "\n",
    "**Answer**:<br>\n",
    "**Washington city** : The average trip length = 18.93 minutes <br> proportion of rides made in each city are longer than 30 minutes =10.83 %\n",
    "<br>\n",
    "**Chicago city** : The average trip length = 16.56 minutes <br> proportion of rides made in each city are longer than 30 minutes =8.33 %\n",
    "<br>\n",
    "**NYC** :The average trip length = 15.81 minutes <br> proportion of rides made in each city are longer than 30 minutes =7.30%"
   ]
  },
  {
   "cell_type": "code",
   "execution_count": 28,
   "metadata": {
    "scrolled": true
   },
   "outputs": [
    {
     "name": "stdout",
     "output_type": "stream",
     "text": [
      "-----------partial test ----------------------------\n",
      "results \n",
      " average trip length for Bay Area : 14.04 minutes while the correct average is 14 minutes \n",
      "proportion of rides made in Bay area that  are longer than 30 minutes is : 3.52% while the correct average is 3.5%\n",
      "--------------------------------------question 4b results---------------------------------\n",
      "[{'city_name': 'Chicago', 'avg_trip_duration': 16.563629368787335, 'charged_ride_propotion': 8.332062497400562}, {'city_name': 'NYC', 'avg_trip_duration': 15.81259299802294, 'charged_ride_propotion': 7.3024371563378345}, {'city_name': 'Washington', 'avg_trip_duration': 18.93287355913721, 'charged_ride_propotion': 10.83888671109369}]\n"
     ]
    }
   ],
   "source": [
    "## Use this and additional cells to answer Question 4b.                 ##\n",
    "##                                                                      ##\n",
    "## HINT: The csv module reads in all of the data as strings, including  ##\n",
    "## numeric values. You will need a function to convert the strings      ##\n",
    "## into an appropriate numeric type before you aggregate data.          ##\n",
    "## TIP: For the Bay Area example, the average trip length is 14 minutes ##\n",
    "## and 3.5% of trips are longer than 30 minutes.                      ##\n",
    "def average_and_charged_propotion(filename):\n",
    "    \"\"\"\n",
    "    this function takes as an input a filename ( path) for a given city and returns: \n",
    "    - the average trip length for each city\n",
    "    and\n",
    "    -proportion of rides made in each city are longer than 30 minutes\n",
    "    \"\"\"\n",
    "    trips_durations = []\n",
    "    charged_trips = 0\n",
    "    with open(filename,'r') as f:\n",
    "        reader = csv.DictReader(f)\n",
    "        for row in reader:\n",
    "            trip_duration = float(row['duration'])\n",
    "            trips_durations.append(trip_duration)\n",
    "            if trip_duration > 30:\n",
    "                charged_trips += 1\n",
    "    average = sum(trips_durations)/len(trips_durations)\n",
    "    charged_rides_propotion = (charged_trips/len(trips_durations)) *100\n",
    "    return average,charged_rides_propotion\n",
    "\n",
    "#test \n",
    "print('-----------partial test ----------------------------')\n",
    "filename = './examples/BayArea-Y3-Summary.csv'\n",
    "a,b = average_and_charged_propotion(filename )\n",
    "print('results \\n average trip length for Bay Area : {} minutes while the correct average is 14 minutes '.format(round(a,2)))\n",
    "            \n",
    "print('proportion of rides made in Bay area that  are longer than 30 minutes is : {}% while the correct average is 3.5%'.format(round(b,2)))      \n",
    "\n",
    "#now we answer the Question 4b for each city \n",
    "def average_and_charged_propotion_per_city(data_files):\n",
    "    result = []\n",
    "    for file in data_files:\n",
    "        city_info = {}\n",
    "        city=file.split('-')[0].split('/')[-1]\n",
    "        city_info['city_name'] = city\n",
    "        city_info['avg_trip_duration'],city_info['charged_ride_propotion'] = average_and_charged_propotion(file)\n",
    "        result.append(city_info)\n",
    "    return result\n",
    "\n",
    "data_files = ('./data/Chicago-2016-Summary.csv','./data/NYC-2016-Summary.csv','./data/Washington-2016-Summary.csv')\n",
    "\n",
    "print('--------------------------------------question 4b results---------------------------------')\n",
    "print(average_and_charged_propotion_per_city(data_files))"
   ]
  },
  {
   "cell_type": "markdown",
   "metadata": {},
   "source": [
    "**Question 4c**: Dig deeper into the question of trip duration based on ridership. Choose one city. Within that city, which type of user takes longer rides on average: Subscribers or Customers?\n",
    "\n",
    "**Answer**: \n",
    "<br> \n",
    "**chosen city**  : Washington\n",
    "<br>\n",
    "**User type that took the longer rides on average:** Subscribers"
   ]
  },
  {
   "cell_type": "code",
   "execution_count": 29,
   "metadata": {},
   "outputs": [
    {
     "name": "stdout",
     "output_type": "stream",
     "text": [
      "the correct results for Bay Area : \n",
      " Average of subscriber trip duration is 9.5 minutes \n",
      " and the average of customer trip duration is 54.6 minutes \n",
      "the function returned for Bay Area :\n",
      "Average of subscriber trip duration is 9.5 minutes \n",
      " and the average of customer trip duration is 54.6 minutes\n",
      "------------------------------------------------------------------\n",
      "For Washington city The type of users that has the longer rides on average is Subscriber with an average of 12.53 minutes\n"
     ]
    }
   ],
   "source": [
    "## Use this and additional cells to answer Question 4c. If you have    ##\n",
    "## not done so yet, consider revising some of your previous code to    ##\n",
    "## make use of functions for reusability.                              ##\n",
    "##                                                                     ##\n",
    "## TIP: For the Bay Area example data, you should find the average     ##\n",
    "## Subscriber trip duration to be 9.5 minutes and the average Customer ##\n",
    "## trip duration to be 54.6 minutes. Do the other cities have this     ##\n",
    "## level of difference?                                                ##\n",
    "def average_rides_users(filename):\n",
    "    \"\"\"\n",
    "    This function takes as Input the path of the file where the rides informations of a certain\n",
    "    city are stored and then returns a dict that have for each user type the average trip duration\n",
    "    \"\"\"\n",
    "    sub_count,cust_count = 0,0 #the number of subscribers and customers\n",
    "    result = {'Subscriber':0,'Customer':0}\n",
    "    with open(filename,'r') as f:\n",
    "        reader = csv.DictReader(f)\n",
    "        for row in reader:\n",
    "            if row['user_type']=='Subscriber':\n",
    "                sub_count +=1\n",
    "                result['Subscriber'] += float(row['duration'])\n",
    "            else:#if not a subscriber then it's a customer \n",
    "                cust_count +=1\n",
    "                result['Customer'] += float(row['duration'])\n",
    "    result['Subscriber'] = result['Subscriber'] / sub_count\n",
    "    result['Customer'] = result['Customer'] / cust_count\n",
    "    return result\n",
    "#In this section we will test this function on Bay area \n",
    "file = './examples/BayArea-Y3-Summary.csv'\n",
    "print('the correct results for Bay Area : \\n Average of subscriber trip duration is 9.5 minutes \\n and the average of customer trip duration is 54.6 minutes ')\n",
    "print('the function returned for Bay Area :')\n",
    "result = average_rides_users(file)\n",
    "print('Average of subscriber trip duration is {} minutes \\n and the average of customer trip duration is {} minutes'.format(round(result['Subscriber'],1),round(result['Customer'],1)))            \n",
    "print('------------------------------------------------------------------')\n",
    "# Now we will test for Washington city to answer the question 4c\n",
    "file = './data/Washington-2016-Summary.csv'\n",
    "result = average_rides_users(file)\n",
    "max_rides_user = max(result)\n",
    "print('For Washington city The type of users that has the longer rides on average is {} with an average of {} minutes'.format(max_rides_user,round(result[max_rides_user],2)))\n"
   ]
  },
  {
   "cell_type": "markdown",
   "metadata": {},
   "source": [
    "<a id='visualizations'></a>\n",
    "### Visualizations\n",
    "\n",
    "The last set of values that you computed should have pulled up an interesting result. While the mean trip time for Subscribers is well under 30 minutes, the mean trip time for Customers is actually _above_ 30 minutes! It will be interesting for us to look at how the trip times are distributed. In order to do this, a new library will be introduced here, `matplotlib`. Run the cell below to load the library and to generate an example plot."
   ]
  },
  {
   "cell_type": "code",
   "execution_count": 30,
   "metadata": {},
   "outputs": [
    {
     "data": {
      "image/png": "[encoded data removed]",
      "text/plain": [
       "<matplotlib.figure.Figure at 0x7f100edf3be0>"
      ]
     },
     "metadata": {
      "needs_background": "light"
     },
     "output_type": "display_data"
    }
   ],
   "source": [
    "# load library\n",
    "import matplotlib.pyplot as plt\n",
    "\n",
    "# this is a 'magic word' that allows for plots to be displayed\n",
    "# inline with the notebook. If you want to know more, see:\n",
    "# http://ipython.readthedocs.io/en/stable/interactive/magics.html\n",
    "%matplotlib inline \n",
    "\n",
    "# example histogram, data taken from bay area sample\n",
    "data = [ 7.65,  8.92,  7.42,  5.50, 16.17,  4.20,  8.98,  9.62, 11.48, 14.33,\n",
    "        19.02, 21.53,  3.90,  7.97,  2.62,  2.67,  3.08, 14.40, 12.90,  7.83,\n",
    "        25.12,  8.30,  4.93, 12.43, 10.60,  6.17, 10.88,  4.78, 15.15,  3.53,\n",
    "         9.43, 13.32, 11.72,  9.85,  5.22, 15.10,  3.95,  3.17,  8.78,  1.88,\n",
    "         4.55, 12.68, 12.38,  9.78,  7.63,  6.45, 17.38, 11.90, 11.52,  8.63,]\n",
    "plt.hist(data)\n",
    "plt.title('Distribution of Trip Durations')\n",
    "plt.xlabel('Duration (m)')\n",
    "plt.show()"
   ]
  },
  {
   "cell_type": "markdown",
   "metadata": {},
   "source": [
    "In the above cell, we collected fifty trip times in a list, and passed this list as the first argument to the `.hist()` function. This function performs the computations and creates plotting objects for generating a histogram, but the plot is actually not rendered until the `.show()` function is executed. The `.title()` and `.xlabel()` functions provide some labeling for plot context.\n",
    "\n",
    "You will now use these functions to create a histogram of the trip times for the city you selected in question 4c. Don't separate the Subscribers and Customers for now: just collect all of the trip times and plot them."
   ]
  },
  {
   "cell_type": "code",
   "execution_count": 31,
   "metadata": {},
   "outputs": [
    {
     "data": {
      "image/png": "[encoded data removed]",
      "text/plain": [
       "<matplotlib.figure.Figure at 0x7f101119a198>"
      ]
     },
     "metadata": {
      "needs_background": "light"
     },
     "output_type": "display_data"
    }
   ],
   "source": [
    "## Use this and additional cells to collect all of the trip times as a list ##\n",
    "## and then use pyplot functions to generate a histogram of trip times.     ##\n",
    "#selected city is Washington \n",
    "#trip times <=> trip start time\n",
    "file = './data/Washington-2016-Summary.csv'\n",
    "def plot_trip_times(file_path,plot_title,x_label,y_label):\n",
    "    times = []\n",
    "    with open(file_path,'r') as f :\n",
    "        reader = csv.DictReader(f)\n",
    "        for row in reader:\n",
    "            times.append(round(float(row['duration']),2))\n",
    "    plt.hist(times)               \n",
    "    plt.title(plot_title)\n",
    "    plt.xlabel(x_label)\n",
    "    plt.ylabel(y_label)\n",
    "    plt.show()\n",
    "                         \n",
    "plot_trip_times(file,'Histogram of Washington\\'s bike trips durations','Duration in minutes','')\n"
   ]
  },
  {
   "cell_type": "markdown",
   "metadata": {},
   "source": [
    "If you followed the use of the `.hist()` and `.show()` functions exactly like in the example, you're probably looking at a plot that's completely unexpected. The plot consists of one extremely tall bar on the left, maybe a very short second bar, and a whole lot of empty space in the center and right. Take a look at the duration values on the x-axis. This suggests that there are some highly infrequent outliers in the data. Instead of reprocessing the data, you will use additional parameters with the `.hist()` function to limit the range of data that is plotted. Documentation for the function can be found [[here]](https://matplotlib.org/devdocs/api/_as_gen/matplotlib.pyplot.hist.html#matplotlib.pyplot.hist).\n",
    "\n",
    "**Question 5**: Use the parameters of the `.hist()` function to plot the distribution of trip times for the Subscribers in your selected city. Do the same thing for only the Customers. Add limits to the plots so that only trips of duration less than 75 minutes are plotted. As a bonus, set the plots up so that bars are in five-minute wide intervals. For each group, where is the peak of each distribution? How would you describe the shape of each distribution?\n",
    "\n",
    "**Answer**: <br>\n",
    "**For the subscribers distribution** : <br>\n",
    "-The peak approches to the value of 17500 trips which corresponds to the trips that last from 5 to 10 minutes long.\n",
    "-The shape of this Distribution : this ditribution is **nearly** right skewed with the majority of the values lay between 0 to 15 minutes \n",
    "<br>\n",
    "**For the customers distribution** : <br>\n",
    "-The peak approches to the value of 2000 trips which corresponds to the trips that last from 15 to 20 minutes long , In other words the mode = [15,20] minutes  \n",
    "-The shape of this Distribution : this ditribution doesn't have a specific shape, meanwhile we can mention that most values lay between 5 to 35 minutes \n",
    "\n",
    "\n"
   ]
  },
  {
   "cell_type": "code",
   "execution_count": 14,
   "metadata": {},
   "outputs": [
    {
     "data": {
      "image/png": "[encoded data removed]",
      "text/plain": [
       "<matplotlib.figure.Figure at 0x7f100f1066a0>"
      ]
     },
     "metadata": {
      "needs_background": "light"
     },
     "output_type": "display_data"
    },
    {
     "name": "stdout",
     "output_type": "stream",
     "text": [
      "---------------------------------------------------------------\n"
     ]
    },
    {
     "data": {
      "image/png": "[encoded data removed]",
      "text/plain": [
       "<matplotlib.figure.Figure at 0x7f100f12ac18>"
      ]
     },
     "metadata": {
      "needs_background": "light"
     },
     "output_type": "display_data"
    }
   ],
   "source": [
    "## Use this and additional cells to answer Question 5. ##\n",
    "# SELECTED CITY is Washigton \n",
    "def trip_times_by_user_type(file_path,user_type):\n",
    "    \"\"\"\"\n",
    "    This function returns the bike trips durations for a certain user type in a certain city\n",
    "    INPUT : file path(string) : the path of the file that includes informations about bike trips in a given city\n",
    "            user_type(string) : the type of users \n",
    "    OUTPUT : times (list) : a list of all trips duration taken by a cetain type of users in a certain city \n",
    "    \"\"\"\"\n",
    "    times = []\n",
    "    with open(file_path,'r') as f :\n",
    "        reader = csv.DictReader(f)\n",
    "        for row in reader:\n",
    "            if row['user_type'] == user_type:\n",
    "                times.append(round(float(row['duration']),2))\n",
    "    return times\n",
    "#file path of Washigton's bike trips informations   \n",
    "file_path = './data/Washington-2016-Summary.csv'\n",
    "sub_trip_times = trip_times_by_user_type(file_path,'Subscriber') \n",
    "cust_trip_times = trip_times_by_user_type(file_path,'Customer') \n",
    "# we plot the results \n",
    "# for Washington's subscribers distribution\n",
    "\n",
    "# BELOW : we have 75/5=15 so here we are filling bins with a set of elements\n",
    "# from an arithmetic sequence with a distance = 5 between each consecutive terms \n",
    "# this is to satisfy the condition of having a 5 minutes bar width\n",
    "bins = [5*i for i in range(15)]\n",
    "plt.hist(sub_trip_times,bins,range=(0,75))  \n",
    "plt.xticks(range(0,80,5))# this is used to set locations labels in the X-axis \n",
    "plt.title('Distribution of Washington\\'s subscribers trips durations')\n",
    "plt.xlabel('Duration (min)')\n",
    "plt.show()\n",
    "\n",
    "print('---------------------------------------------------------------')\n",
    "# here another way to have a 5 minutes bar width <=> just sit the number of bars which is 15\n",
    "plt.hist(cust_trip_times,bins=15,range=(0,75))\n",
    "plt.xticks(range(0,80,5)) # this is used to set locations labels in the X-axis \n",
    "plt.title('Distribution of Washington\\'s customers trips durations')\n",
    "plt.xlabel('Duration (min)')\n",
    "plt.show()\n",
    "\n"
   ]
  },
  {
   "cell_type": "markdown",
   "metadata": {
    "collapsed": true
   },
   "source": [
    "<a id='eda_continued'></a>\n",
    "## Performing Your Own Analysis\n",
    "\n",
    "So far, you've performed an initial exploration into the data available. You have compared the relative volume of trips made between three U.S. cities and the ratio of trips made by Subscribers and Customers. For one of these cities, you have investigated differences between Subscribers and Customers in terms of how long a typical trip lasts. Now it is your turn to continue the exploration in a direction that you choose. Here are a few suggestions for questions to explore:\n",
    "\n",
    "- How does ridership differ by month or season? Which month / season has the highest ridership? Does the ratio of Subscriber trips to Customer trips change depending on the month or season?\n",
    "- Is the pattern of ridership different on the weekends versus weekdays? On what days are Subscribers most likely to use the system? What about Customers? Does the average duration of rides change depending on the day of the week?\n",
    "- During what time of day is the system used the most? Is there a difference in usage patterns for Subscribers and Customers?\n",
    "\n",
    "If any of the questions you posed in your answer to question 1 align with the bullet points above, this is a good opportunity to investigate one of them. As part of your investigation, you will need to create a visualization. If you want to create something other than a histogram, then you might want to consult the [Pyplot documentation](https://matplotlib.org/devdocs/api/pyplot_summary.html). In particular, if you are plotting values across a categorical variable (e.g. city, user type), a bar chart will be useful. The [documentation page for `.bar()`](https://matplotlib.org/devdocs/api/_as_gen/matplotlib.pyplot.bar.html#matplotlib.pyplot.bar) includes links at the bottom of the page with examples for you to build off of for your own use.\n",
    "\n",
    "**Question 6**: Continue the investigation by exploring another question that could be answered by the data available. Document the question you want to explore below. Your investigation should involve at least two variables and should compare at least two groups. You should also use at least one visualization as part of your explorations.\n",
    "\n",
    "**Answer**:\n",
    "All answers are extracted from running the code in cell below and observing the visualizations \n",
    " <br>\n",
    "**Question 1 :** How does ridership differ by month or season in each city ? <br>\n",
    "**Answer 1:** <br>\n",
    "__For Chicago__ : the distribution of the total bike rides over the months is slightly symetric as it starts with low levels in January and the rates then keeps improuving until geting its maximum rates by July , from july till December the rates decreses again <br>\n",
    "__For NYC__ : the Distribution doesn't have a specific shape and the rates sway up and down during the months<br>\n",
    "__For Washington__ : the Distribution doesn't have a specific shape but it's worth mentionning that the rate significally reaches high levels in the period from June till October\n",
    "<br>\n",
    "**Question 2** : Which month / season has the highest ridership in each city ?<br>\n",
    "**Answer2** : <br>\n",
    "__For Chicago__ : As a global view the month that has the hightest ridership rate is : July<br>\n",
    "Meanwhile if we take a look at users types :<br>\n",
    "The month that has the hightest ridership in terms of subscribers is : June <br>\n",
    "The month that has the hightest ridership in terms of subscribers is : July <br>\n",
    "__For NYC__ : As a global view the month that has the hightest ridership rate is : September<br>\n",
    "Meanwhile if we take a look at users types :<br>\n",
    "The month that has the hightest ridership in terms of subscribers is : October  <br>\n",
    "The month that has the hightest ridership in terms of subscribers is : August<br>\n",
    "__For Washington__ : As a global view the month that has the hightest ridership rate is : July<br>\n",
    "Meanwhile if we take a look at users types :<br>\n",
    "The month that has the hightest ridership in terms of subscribers is : June <br>\n",
    "The month that has the hightest ridership in terms of subscribers is : July<br>\n",
    "In terms of Seasons : <br> \n",
    "Both Chicago and Washigton recorded the hightests levels in bike rides during Summer months (from June to August) \n",
    "while NYC recorded its peaks during  the late summer to Automn (From August to November ) \n",
    "<br>\n",
    "**Question 3**: How does the ratio of Subscriber trips to Customer trips change  in each of the three cities ? \n",
    "__For Chicago__ : From January to May ratio increases which means in this period we have more subscribers than customers <br>\n",
    "the rate goes down in June as the number of customers gets higher than the number of subscribers \n",
    "<br> \n",
    "From July to December the ratio follows a decending evoloution to reach its lowest levels by December \n",
    "__For NYC__ : The ratio keeps fluctuating up and down multiple times during the year \n",
    "<br>\n",
    "__For Wahsington__ : The ratio gets it's hightest peak in July , except for July the evolution is smooth and doesn't follow a dramatic falls and ups \n",
    "**Conclusion** : the peak season is generally Summer , or the late Summer till Automn , And the rates fall down in Winter ; this result is not suprising because people find it hard to use bikes during Winter due to the harsh weather conditions in this season.  "
   ]
  },
  {
   "cell_type": "code",
   "execution_count": 34,
   "metadata": {},
   "outputs": [
    {
     "name": "stdout",
     "output_type": "stream",
     "text": [
      "results for Chicago\n",
      " the month that has the hightest ridership rate is : July\n",
      " the month that has the hightest ridership in terms of subscribers is : June\n",
      " the month that has the hightest ridership in terms of Customers is : July\n",
      "visualisations....\n"
     ]
    },
    {
     "data": {
      "image/png": "[encoded data removed]",
      "text/plain": [
       "<matplotlib.figure.Figure at 0x7f100f0da438>"
      ]
     },
     "metadata": {
      "needs_background": "light"
     },
     "output_type": "display_data"
    },
    {
     "data": {
      "image/png": "[encoded data removed]",
      "text/plain": [
       "<matplotlib.figure.Figure at 0x7f100eeabd30>"
      ]
     },
     "metadata": {
      "needs_background": "light"
     },
     "output_type": "display_data"
    },
    {
     "data": {
      "image/png": "[encoded data removed]",
      "text/plain": [
       "<matplotlib.figure.Figure at 0x7f100f0f5dd8>"
      ]
     },
     "metadata": {
      "needs_background": "light"
     },
     "output_type": "display_data"
    },
    {
     "data": {
      "image/png": "[encoded data removed]",
      "text/plain": [
       "<matplotlib.figure.Figure at 0x7f100ece7400>"
      ]
     },
     "metadata": {
      "needs_background": "light"
     },
     "output_type": "display_data"
    },
    {
     "name": "stdout",
     "output_type": "stream",
     "text": [
      "---------------------------------------------------------------------------------------------------\n",
      "\n",
      "results for NYC\n",
      " the month that has the hightest ridership rate is : September\n",
      " the month that has the hightest ridership in terms of subscribers is : October\n",
      " the month that has the hightest ridership in terms of Customers is : August\n",
      "visualisations....\n"
     ]
    },
    {
     "data": {
      "image/png": "[encoded data removed]",
      "text/plain": [
       "<matplotlib.figure.Figure at 0x7f100ecbe668>"
      ]
     },
     "metadata": {
      "needs_background": "light"
     },
     "output_type": "display_data"
    },
    {
     "data": {
      "image/png": "[encoded data removed]",
      "text/plain": [
       "<matplotlib.figure.Figure at 0x7f100f106cc0>"
      ]
     },
     "metadata": {
      "needs_background": "light"
     },
     "output_type": "display_data"
    },
    {
     "data": {
      "image/png": "[encoded data removed]",
      "text/plain": [
       "<matplotlib.figure.Figure at 0x7f100eac60b8>"
      ]
     },
     "metadata": {
      "needs_background": "light"
     },
     "output_type": "display_data"
    },
    {
     "data": {
      "image/png": "[encoded data removed]",
      "text/plain": [
       "<matplotlib.figure.Figure at 0x7f100ee0c128>"
      ]
     },
     "metadata": {
      "needs_background": "light"
     },
     "output_type": "display_data"
    },
    {
     "name": "stdout",
     "output_type": "stream",
     "text": [
      "---------------------------------------------------------------------------------------------------\n",
      "\n",
      "results for Washington\n",
      " the month that has the hightest ridership rate is : July\n",
      " the month that has the hightest ridership in terms of subscribers is : June\n",
      " the month that has the hightest ridership in terms of Customers is : July\n",
      "visualisations....\n"
     ]
    },
    {
     "data": {
      "image/png": "[encoded data removed]",
      "text/plain": [
       "<matplotlib.figure.Figure at 0x7f100eb2d9b0>"
      ]
     },
     "metadata": {
      "needs_background": "light"
     },
     "output_type": "display_data"
    },
    {
     "data": {
      "image/png": "[encoded data removed]",
      "text/plain": [
       "<matplotlib.figure.Figure at 0x7f100ebbe8d0>"
      ]
     },
     "metadata": {
      "needs_background": "light"
     },
     "output_type": "display_data"
    },
    {
     "data": {
      "image/png": "[encoded data removed]",
      "text/plain": [
       "<matplotlib.figure.Figure at 0x7f100ed742e8>"
      ]
     },
     "metadata": {
      "needs_background": "light"
     },
     "output_type": "display_data"
    },
    {
     "data": {
      "image/png": "[encoded data removed]",
      "text/plain": [
       "<matplotlib.figure.Figure at 0x7f100eb36ef0>"
      ]
     },
     "metadata": {
      "needs_background": "light"
     },
     "output_type": "display_data"
    },
    {
     "name": "stdout",
     "output_type": "stream",
     "text": [
      "---------------------------------------------------------------------------------------------------\n",
      "\n"
     ]
    }
   ],
   "source": [
    "import calendar as cal\n",
    "def ridership_by_month(file_path):\n",
    "    \"\"\"\n",
    "    This function takes as an input a ridership informations file of a certain city\n",
    "    and returns :\n",
    "    month_stats : Dict{month : number_of_trips}\n",
    "    mode_month : String => the month that has the hightest ridership \n",
    "    mode_month_custs : String => the month that has the hightest ridership for Customers\n",
    "    mode_month_sub : String => the month that has the hightest ridership for Subscribers\n",
    "    ratio_cust_sub : Dict => {month : ratio} for each month what is the ratio customers/subscribers \n",
    "    \"\"\"\n",
    "    month_stats = {1:0,2:0,3:0,4:0,5:0,6:0,7:0,8:0,9:0,10:0,11:0,12:0}\n",
    "    month_cust_trips= {1:0,2:0,3:0,4:0,5:0,6:0,7:0,8:0,9:0,10:0,11:0,12:0}\n",
    "    month_sub_trips= {1:0,2:0,3:0,4:0,5:0,6:0,7:0,8:0,9:0,10:0,11:0,12:0}\n",
    "\n",
    "    with open(file_path,'r') as f:\n",
    "        reader = csv.DictReader(f)\n",
    "        for row in reader:\n",
    "            month_stats[int(row['month'])] += 1\n",
    "            if row['user_type'] == 'Customer':\n",
    "                month_cust_trips[int(row['month'])] += 1\n",
    "            else:\n",
    "                month_sub_trips[int(row['month'])] += 1 \n",
    "    \n",
    "    ratio_cust_sub = {i: round((month_cust_trips[i]/month_sub_trips[i]),2) for i in month_cust_trips} \n",
    "    mode_month = cal.month_name[max(month_stats.items(), key=operator.itemgetter(1))[0]]\n",
    "    mode_month_custs = cal.month_name[max(month_cust_trips.items(), key=operator.itemgetter(1))[0]]\n",
    "    mode_month_sub = cal.month_name[max(month_sub_trips.items(), key=operator.itemgetter(1))[0]]\n",
    "    return {'mode_month':mode_month,'mode_custs':mode_month_custs,'mode_sub':mode_month_sub,'monthly_stats':month_stats,'monthly_ratio_cust_sub':ratio_cust_sub,\n",
    "           'monthly_custs':month_cust_trips,'monthly_subs':month_sub_trips,'ratio_sub/cust':ratio_cust_sub}\n",
    "    \n",
    "def plot_ridership_month(monthly_stats,monthly_sub,monthly_custs,ratio,city_name):\n",
    "    \"\"\"\n",
    "    This funtion plots ridership monthly reports.\n",
    "    INPUT : monthly_stats(Dict): contains the number of trips per month in a given city.\n",
    "            monthly_sub(Dict):contains the number of trips taken by subscribers per month in a given city.\n",
    "            monthly_custs(Dict):contains the number of trips taken by customers per month in a given city.\n",
    "            ratio(Dict):contains the ratio between the number of trips taken by subscribers and those taken \n",
    "            by customers per month in a given city.\n",
    "    OUTPUT : None\n",
    "    \"\"\"\n",
    "    plt.bar(range(len(monthly_stats)), monthly_stats.values(), align='center')\n",
    "    plt.title(\"monthly ridership report of {}\".format(city_name))\n",
    "    plt.xticks(range(len(monthly_stats)), monthly_stats.keys())\n",
    "    plt.show()\n",
    "    plt.bar(range(len(monthly_sub)), monthly_sub.values())\n",
    "    plt.title(\"monthly subscribers ridership report of {}\".format(city_name))\n",
    "    plt.xticks(range(len(monthly_sub)), monthly_sub.keys())\n",
    "    plt.show()\n",
    "    plt.bar(range(len(monthly_custs)), monthly_custs.values(), align='center')\n",
    "    plt.title(\"monthly customers ridership report of {}\".format(city_name))\n",
    "    plt.xticks(range(len(monthly_custs)), monthly_custs.keys())\n",
    "    plt.show()\n",
    "    plt.bar(range(len(ratio)), ratio.values(), align='center')\n",
    "    plt.title(\"monthly ratio subscribers/customers ridership report of {}\".format(city_name))\n",
    "    plt.xticks(range(len(ratio)), ratio.keys())\n",
    "    plt.show()\n",
    "    \n",
    "files =('./data/Chicago-2016-Summary.csv','./data/NYC-2016-Summary.csv','./data/Washington-2016-Summary.csv') \n",
    "#now we will explore the different visualizations for each city in order to compare between the results\n",
    "#1 collecting results \n",
    "results = {}\n",
    "for file in files :\n",
    "    city = file.split('-')[0].split('/')[-1]\n",
    "    results[city] = ridership_by_month(file)\n",
    "#2 Visualizations\n",
    "for key,value in results.items():\n",
    "    print(\"results for {}\".format(key))\n",
    "    print(\" the month that has the hightest ridership rate is : {}\".format(value['mode_month']))\n",
    "    print(\" the month that has the hightest ridership in terms of subscribers is : {}\".format(value['mode_sub']))\n",
    "    print(\" the month that has the hightest ridership in terms of Customers is : {}\".format(value['mode_custs']))\n",
    "    print(\"visualisations....\")\n",
    "    plot_ridership_month(value['monthly_stats'],value['monthly_subs'],value['monthly_custs'],value['ratio_sub/cust'],key)\n",
    "    print(\"---------------------------------------------------------------------------------------------------\\n\")\n",
    "\n"
   ]
  },
  {
   "cell_type": "markdown",
   "metadata": {},
   "source": [
    "<a id='conclusions'></a>\n",
    "## Conclusions\n",
    "\n",
    "Congratulations on completing the project! This is only a sampling of the data analysis process: from generating questions, wrangling the data, and to exploring the data. Normally, at this point in the data analysis process, you might want to draw conclusions about the data by performing a statistical test or fitting the data to a model for making predictions. There are also a lot of potential analyses that could be performed on the data which are not possible with only the data provided. For example, detailed location data has not been investigated. Where are the most commonly used docks? What are the most common routes? As another example, weather has potential to have a large impact on daily ridership. How much is ridership impacted when there is rain or snow? Are subscribers or customers affected more by changes in weather?\n",
    "\n",
    "**Question 7**: Putting the bike share data aside, think of a topic or field of interest where you would like to be able to apply the techniques of data science. What would you like to be able to learn from your chosen subject?\n",
    "\n",
    "**Answer**: One of the most worthy fields in apply these techniques in is : Heath care systems and epidemic detection , if we can extract details of patients symptoms and the notes of doctors in each region , and then use these informations to extract more knowledge we will be able to detect epedimics more effectively and gain time in putting good health strategies to face this kind of disasters.<br>\n",
    "Another use case can be in improuving the sales rates in shops throught the day/month/season : For example if we have a supermarket and we notice that we sell more vegetables in the morning for example , then we can arrange the products in a specific way in the morning in order to facilitate the reach to certain products that are more likely to be sold in that part of the day ."
   ]
  },
  {
   "cell_type": "code",
   "execution_count": null,
   "metadata": {
    "collapsed": true
   },
   "outputs": [],
   "source": [
    "from subprocess import call\n",
    "call(['python', '-m', 'nbconvert', 'Bike_Share_Analysis.ipynb'])"
   ]
  }
 ],
 "metadata": {
  "anaconda-cloud": {},
  "kernelspec": {
   "display_name": "Python 3",
   "language": "python",
   "name": "python3"
  },
  "language_info": {
   "codemirror_mode": {
    "name": "ipython",
    "version": 3
   },
   "file_extension": ".py",
   "mimetype": "text/x-python",
   "name": "python",
   "nbconvert_exporter": "python",
   "pygments_lexer": "ipython3",
   "version": "3.6.1"
  }
 },
 "nbformat": 4,
 "nbformat_minor": 1
}
